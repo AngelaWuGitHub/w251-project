{
 "cells": [
  {
   "cell_type": "code",
   "execution_count": 1,
   "metadata": {
    "collapsed": true,
    "pycharm": {
     "is_executing": false
    }
   },
   "outputs": [],
   "source": [
    "# RGB: https://www.rapidtables.com/web/color/RGB_Color.html\n",
    "import json\n",
    "import os\n",
    "import cv2\n",
    "import numpy as np\n",
    "from matplotlib import pyplot as plt\n",
    "import glob\n",
    "np.random.seed(251)"
   ]
  },
  {
   "cell_type": "code",
   "execution_count": 2,
   "outputs": [],
   "source": [
    "project_path = r'D:\\UCBerkeley\\CourseWork\\202001\\W251\\Homework\\Project'\n",
    "dir_video = r'openpose_output\\video_NEW'\n",
    "dir_json = r'openpose_output\\json_NEW'\n",
    "dir_optical_flow = r'openpose_output\\manual_optical_flow_output_hand4'\n",
    "dir_transfer = r'openpose_output\\image_transfer_hand4'\n",
    "\n",
    "class_list = ['AGAIN', 'ALL', 'AWKWARD', 'BASEBALL', 'BEHAVIOR', 'CAN', 'CHAT', 'CHEAP', \n",
    "              'CHEAT', 'CHURCH', 'COAT', 'CONFLICT', 'COURT', 'DEPOSIT', 'DEPRESS', \n",
    "              'DOCTOR', 'DRESS', 'ENOUGH', 'NEG']\n",
    "\n",
    "body_feature_set = [3, 4, 6, 7]\n",
    "hand_feature_set = list(range(21))\n",
    "hand_feature_set1 = [0, 17, 13, 9, 5, 1]\n",
    "hand_feature_set2 = [0, 18, 14, 10, 6, 2]\n",
    "hand_feature_set3 = [0, 19, 15, 11, 7, 3]\n",
    "hand_feature_set4 = [0, 20, 16, 12, 8, 4]\n",
    "\n",
    "# Create some random colors\n",
    "color = np.random.randint(0,255,(300,3))"
   ],
   "metadata": {
    "collapsed": false,
    "pycharm": {
     "name": "#%%\n",
     "is_executing": false
    }
   }
  },
  {
   "cell_type": "code",
   "execution_count": 3,
   "outputs": [],
   "source": [
    "# Remove all the files in dir_optical_flow\n",
    "files = glob.glob(os.path.join(project_path, dir_optical_flow, '*'))\n",
    "for f in files:\n",
    "    os.remove(f)\n",
    "# Remove all the files in the dir_transfer folder\n",
    "for i in range(len(class_list)):\n",
    "    files = glob.glob(os.path.join(project_path, dir_transfer, class_list[i], '*'))\n",
    "    for f in files:\n",
    "        os.remove(f)\n"
   ],
   "metadata": {
    "collapsed": false,
    "pycharm": {
     "name": "#%%\n",
     "is_executing": false
    }
   }
  },
  {
   "cell_type": "code",
   "execution_count": 4,
   "outputs": [
    {
     "name": "stdout",
     "text": [
      "ASL_2006_10_10_scene2-camera1_AGAIN_v0_c9_train.mov\nFound the json files\nSave as mask_AGAIN_c9_train\nASL_2006_10_10_scene2-camera1_ALL_v0_c4_train.mov\nFound the json files\nSave as mask_ALL_c4_train\nASL_2006_10_10_scene3-camera1_AWKWARD_v0_c4_test.mov\nFound the json files\nSave as mask_AWKWARD_c4_test\nASL_2006_10_10_scene3-camera1_BASEBALL_v1_c1_train.mov\nFound the json files\nSave as mask_BASEBALL_c1_train\nASL_2006_10_10_scene4-camera1_CAN_v0_c6_test.mov\nFound the json files\nSave as mask_CAN_c6_test\nASL_2006_10_10_scene4-camera1_CHAT_v2_c8_train.mov",
      "\nFound the json files\nSave as mask_CHAT_c8_train\nASL_2006_10_10_scene5-camera1_CHEAP_v0_c4_train.mov\nFound the json files\nSave as mask_CHEAP_c4_train\nASL_2006_10_10_scene5-camera1_CHURCH_v1_c4_train.mov\nFound the json files\nSave as mask_CHURCH_c4_train\nASL_2006_10_10_scene5-camera1_COAT_v0_c4_train.mov\nFound the json files\nSave as mask_COAT_c4_train\n",
      "ASL_2006_10_10_scene6-camera1_CONFLICT_v0_c7_train.mov\nFound the json files\nSave as mask_CONFLICT_c7_train\nASL_2006_10_10_scene6-camera1_COURT_v0_c7_train.mov\nFound the json files\nSave as mask_COURT_c7_train\nASL_2006_10_10_scene7-camera1_DEPOSIT_v0_c5_train.mov\nFound the json files\nSave as mask_DEPOSIT_c5_train\nASL_2006_10_10_scene7-camera1_DEPRESS_v0_c5_train.mov\nFound the json files\nSave as mask_DEPRESS_c5_train\nASL_2006_10_10_scene7-camera1_DOCTOR_v1_c6_train.mov\nFound the json files",
      "\nSave as mask_DOCTOR_c6_train\nASL_2006_10_10_scene7-camera1_WANT_NEG_v1_c3_train.mov\nFound the json files\nSave as mask_NEG_c3_train\nASL_2006_10_10_scene8-camera1_DRESS_v0_c17_test.mov\nFound the json files\nSave as mask_DRESS_c17_test\nASL_2006_10_10_scene8-camera1_ENOUGH_v1_c4_train.mov\nFound the json files\nSave as mask_ENOUGH_c4_train\nASL_2007_05_24_scene10-camera1_CONFLICT_v0_c8_train.mov\nFound the json files\nSave as",
      " mask_CONFLICT_c8_train\nASL_2007_05_24_scene10-camera1_COURT_v0_c8_train.mov\nFound the json files\nSave as mask_COURT_c8_train\nASL_2007_05_24_scene11-camera1_DEPOSIT_v0_c6_train.mov\nFound the json files\nSave as mask_DEPOSIT_c6_train\nASL_2007_05_24_scene11-camera1_DEPRESS_v0_c6_test.mov\nFound the json files\nSave as mask_DEPRESS_c6_test\nASL_2007_05_24_scene11-camera1_DOCTOR_v1_c7_train.mov\nFound the json files\nSave as mask_DOCTOR_c7_train\nASL_2007_05_24_scene11-camera1_WANT_NEG_v1_c4_train.mov",
      "\nFound the json files\nSave as mask_NEG_c4_train\nASL_2007_05_24_scene12-camera1_DRESS_v0_c18_train.mov\nFound the json files\nSave as mask_DRESS_c18_train\nASL_2007_05_24_scene12-camera1_ENOUGH_v1_c5_train.mov\nFound the json files\nSave as mask_ENOUGH_c5_train\nASL_2007_05_24_scene5-camera1_AGAIN_v0_c10_train.mov\nFound the json files\nSave as mask_AGAIN_c10_train\n",
      "ASL_2007_05_24_scene5-camera1_ALL_v0_c5_train.mov\nFound the json files\nSave as mask_ALL_c5_train\nASL_2007_05_24_scene7-camera1_AWKWARD_v0_c5_train.mov\nFound the json files\nSave as mask_AWKWARD_c5_train\nASL_2007_05_24_scene7-camera1_BEHAVIOR_v1_c5_train.mov\nFound the json files\nSave as mask_BEHAVIOR_c5_train\nASL_2007_05_24_scene8-camera1_CAN_v0_c7_train.mov\nFound the json files\nSave as mask_CAN_c7_train\nASL_2007_05_24_scene8-camera1_CHAT_v2_c9_train.mov",
      "\nFound the json files\nSave as mask_CHAT_c9_train\nASL_2007_05_24_scene9-camera1_CHEAP_v0_c5_train.mov\nFound the json files\nSave as mask_CHEAP_c5_train\nASL_2007_05_24_scene9-camera1_CHURCH_v2_c5_train.mov\nFound the json files\nSave as mask_CHURCH_c5_train\nASL_2007_05_24_scene9-camera1_COAT_v0_c5_train.mov\nFound the json files\nSave as mask_COAT_c5_train\n",
      "ASL_2008_01_11_scene11-camera1_ALL_v0_c0_train.mov\nFound the json files\nSave as mask_ALL_c0_train\nASL_2008_01_11_scene27-camera1_AWKWARD_v0_c0_train.mov\nFound the json files\nSave as mask_AWKWARD_c0_train\nASL_2008_01_11_scene38-camera1_BEHAVIOR_v0_c0_train.mov\nFound the json files\nSave as mask_BEHAVIOR_c0_train\nASL_2008_01_11_scene62-camera1_CAN_v0_c0_train.mov\nFound the json files\nSave as mask_CAN_c0_train\nASL_2008_01_11_scene71-camera1_CHAT_v2_c0_train.mov\nFound the json files\n",
      "Save as mask_CHAT_c0_train\nASL_2008_01_11_scene71-camera1_CHEAP_v0_c0_test.mov\nFound the json files\nSave as mask_CHEAP_c0_test\nASL_2008_01_11_scene71-camera1_CHEAT_v2_c0_train.mov\nFound the json files\nSave as mask_CHEAT_c0_train\nASL_2008_01_11_scene77-camera1_CHURCH_v1_c0_train.mov\nFound the json files\nSave as mask_CHURCH_c0_train\nASL_2008_01_11_scene81-camera1_COAT_v0_c0_train.mov\nFound the json files\nSave as",
      " mask_COAT_c0_train\nASL_2008_01_11_scene81-camera1_DRESS_v1_c0_train.mov\nFound the json files\nSave as mask_DRESS_c0_train\nASL_2008_01_11_scene9-camera1_AGAIN_v0_c0_train.mov\nFound the json files\nSave as mask_AGAIN_c0_train\nASL_2008_01_11_scene9-camera1_AGAIN_v2_c1_train.mov\nFound the json files\nSave as mask_AGAIN_c1_train\nASL_2008_01_18_scene1-camera1_CHAT_v1_c1_train.mov\nFound the json files\nSave as mask_CHAT_c1_train\nASL_2008_01_18_scene15-camera1_DEPOSIT_v0_c0_train.mov",
      "\nFound the json files\nSave as mask_DEPOSIT_c0_train\nASL_2008_01_18_scene15-camera1_DEPRESS_v0_c0_train.mov\nFound the json files\nSave as mask_DEPRESS_c0_train\nASL_2008_01_18_scene21-camera1_DOCTOR_v1_c0_train.mov\nFound the json files\nSave as mask_DOCTOR_c0_train\nASL_2008_01_18_scene22-camera1_WANT_NEG_v1_c0_test.mov\nFound the json files\nSave as mask_NEG_c0_test\nASL_2008_01_18_scene23-camera1_DRESS_v1_c1_train.mov",
      "\nFound the json files\nSave as mask_DRESS_c1_train\nASL_2008_01_18_scene24-camera1_DRESS_v0_c2_train.mov\nFound the json files\nSave as mask_DRESS_c2_train\nASL_2008_01_18_scene24-camera1_DRESS_v0_c4_train.mov\nFound the json files\nSave as mask_DRESS_c4_train\nASL_2008_01_18_scene24-camera1_DRESS_v1_c3_test.mov\nFound the json files\nSave as mask_DRESS_c3_test\nASL_2008_01_18_scene3-camera1_CONFLICT_v0_c0_train.mov\nFound the json files",
      "\nSave as mask_CONFLICT_c0_train\nASL_2008_01_18_scene32-camera1_ENOUGH_v1_c0_train.mov\nFound the json files\nSave as mask_ENOUGH_c0_train\nASL_2008_01_18_scene7-camera1_COURT_v0_c0_train.mov\nFound the json files\nSave as mask_COURT_c0_train\nASL_2008_02_01_scene38-camera1_COURT_v0_c1_train.mov\nFound the json files\nSave as mask_COURT_c1_train\nASL_2008_02_15_scene45-camera1_CAN_v1_c1_train.mov",
      "\nFound the json files\nSave as mask_CAN_c1_train\nASL_2008_05_12a_scene18-camera1_AWKWARD_v0_c1_train.mov\nFound the json files\nSave as mask_AWKWARD_c1_train\nASL_2008_05_12a_scene24-camera1_BEHAVIOR_v1_c1_test.mov\nFound the json files\nSave as mask_BEHAVIOR_c1_test\nASL_2008_05_12a_scene24-camera1_BEHAVIOR_v1_c2_train.mov\nFound the json files\nSave as mask_BEHAVIOR_c2_train\nASL_2008_05_12a_scene29-camera1_DRESS_v0_c5_train.mov\nFound the json files\nSave as mask_DRESS_c5_train\nASL_2008_05_12a_scene39-camera1_CAN_v0_c2_train.mov",
      "\nFound the json files\nSave as mask_CAN_c2_train\nASL_2008_05_12a_scene44-camera1_CHAT_v2_c2_test.mov\nFound the json files\nSave as mask_CHAT_c2_test\nASL_2008_05_12a_scene44-camera1_CHEAP_v0_c1_train.mov\nFound the json files\nSave as mask_CHEAP_c1_train\nASL_2008_05_12a_scene44-camera1_CHEAT_v2_c1_train.mov\nFound the json files\nSave as mask_CHEAT_c1_train\nASL_2008_05_12a_scene46-camera1_CHURCH_v1_c1_test.mov",
      "\nFound the json files\nSave as mask_CHURCH_c1_test\nASL_2008_05_12a_scene48-camera1_COAT_v0_c1_train.mov\nFound the json files\nSave as mask_COAT_c1_train\nASL_2008_05_12a_scene48-camera1_DRESS_v2_c6_train.mov\nFound the json files\nSave as mask_DRESS_c6_train\nASL_2008_05_12a_scene8-camera1_AGAIN_v0_c2_train.mov\nFound the json files\nSave as mask_AGAIN_c2_train\nASL_2008_05_12a_scene8-camera1_AGAIN_v1_c3_test.mov\nFound the json files\nSave as mask_AGAIN_c3_test\n",
      "ASL_2008_05_12a_scene9-camera1_ALL_v0_c1_train.mov\nFound the json files\nSave as mask_ALL_c1_train\nASL_2008_05_12b_scene1-camera1_CHAT_v2_c3_train.mov\nFound the json files\nSave as mask_CHAT_c3_train\nASL_2008_05_12b_scene14-camera1_DEPOSIT_v0_c2_train.mov\nFound the json files\nSave as mask_DEPOSIT_c2_train\nASL_2008_05_12b_scene15-camera1_DEPRESS_v0_c1_train.mov\nFound the json files\nSave as mask_DEPRESS_c1_train\n",
      "ASL_2008_05_12b_scene2-camera1_CONFLICT_v0_c2_train.mov\nFound the json files\nSave as mask_CONFLICT_c2_train\nASL_2008_05_12b_scene6-camera1_COURT_v0_c2_test.mov\nFound the json files\nSave as mask_COURT_c2_test\nASL_2008_05_29a_scene1-camera1_DOCTOR_v3_c1_train.mov\nFound the json files\nSave as mask_DOCTOR_c1_train\nASL_2008_05_29a_scene12-camera1_ENOUGH_v1_c1_test.mov\nFound the json files\nSave as mask_ENOUGH_c1_test\nASL_2008_05_29a_scene3-camera1_DRESS_v0_c7_train.mov\nFound the json files\nSave as mask_DRESS_c7_train\nASL_2008_05_29a_scene3-camera1_DRESS_v0_c8_train.mov\n",
      "Found the json files\nSave as mask_DRESS_c8_train\nASL_2008_05_29a_scene4-camera1_DRESS_v0_c10_train.mov\nFound the json files\nSave as mask_DRESS_c10_train\nASL_2008_05_29a_scene4-camera1_DRESS_v2_c9_train.mov\nFound the json files\nSave as mask_DRESS_c9_train\nASL_2008_08_04_scene18-camera1_AWKWARD_v0_c2_train.mov\nFound the json files\nSave as mask_AWKWARD_c2_train\nASL_2008_08_04_scene21-camera1_BASEBALL_v0_c0_test.mov",
      "\nFound the json files\nSave as mask_BASEBALL_c0_test\nASL_2008_08_04_scene25-camera1_BEHAVIOR_v1_c3_train.mov\nFound the json files\nSave as mask_BEHAVIOR_c3_train\nASL_2008_08_04_scene28-camera1_DOCTOR_v1_c2_train.mov\nFound the json files\nSave as mask_DOCTOR_c2_train\nASL_2008_08_04_scene40-camera1_CAN_v0_c3_train.mov\nFound the json files\nSave as mask_CAN_c3_train\nASL_2008_08_04_scene45-camera1_CHAT_v1_c4_train.mov\nFound the json files\nSave as mask_CHAT_c4_train\nASL_2008_08_04_scene45-camera1_CHEAP_v0_c2_train.mov\n",
      "Found the json files\nSave as mask_CHEAP_c2_train\nASL_2008_08_04_scene45-camera1_CHEAT_v0_c2_train.mov\nFound the json files\nSave as mask_CHEAT_c2_train\nASL_2008_08_04_scene45-camera1_CHEAT_v0_c3_train.mov\nFound the json files\nSave as mask_CHEAT_c3_train\nASL_2008_08_04_scene48-camera1_CHURCH_v1_c2_train.mov\nFound the json files\nSave as mask_CHURCH_c2_train\nASL_2008_08_04_scene50-camera1_COAT_v0_c2_train.mov",
      "\nFound the json files\nSave as mask_COAT_c2_train\nASL_2008_08_04_scene50-camera1_DRESS_v1_c11_train.mov\nFound the json files\nSave as mask_DRESS_c11_train\nASL_2008_08_04_scene7-camera1_AGAIN_v0_c4_train.mov\nFound the json files\nSave as mask_AGAIN_c4_train\nASL_2008_08_04_scene7-camera1_AGAIN_v2_c5_train.mov\nFound the json files\nSave as mask_AGAIN_c5_train\nASL_2008_08_04_scene8-camera1_ALL_v0_c2_test.mov\nFound the json files\nSave as mask_ALL_c2_test\n",
      "ASL_2008_08_06_scene1-camera1_CHAT_v2_c5_train.mov\nFound the json files\nSave as mask_CHAT_c5_train\nASL_2008_08_06_scene14-camera1_DEPOSIT_v0_c3_train.mov\nFound the json files\nSave as mask_DEPOSIT_c3_train\nASL_2008_08_06_scene15-camera1_DEPRESS_v0_c2_train.mov\nFound the json files\nSave as mask_DEPRESS_c2_train\nASL_2008_08_06_scene2-camera1_CONFLICT_v0_c3_train.mov\nFound the json files\nSave as mask_CONFLICT_c3_train\nASL_2008_08_06_scene21-camera1_DOCTOR_v0_c3_test.mov",
      "\nFound the json files\nSave as mask_DOCTOR_c3_test\nASL_2008_08_06_scene22-camera1_WANT_NEG_v1_c1_train.mov\nFound the json files\nSave as mask_NEG_c1_train\nASL_2008_08_06_scene24-camera1_DRESS_v0_c13_train.mov\nFound the json files\nSave as mask_DRESS_c13_train\nASL_2008_08_06_scene24-camera1_DRESS_v1_c12_train.mov\nFound the json files\nSave as mask_DRESS_c12_train\nASL_2008_08_06_scene32-camera1_ENOUGH_v1_c2_train.mov\nFound the json files\nSave as mask_ENOUGH_c2_train\nASL_2008_08_06_scene6-camera1_COURT_v0_c3_train.mov",
      "\nFound the json files\nSave as mask_COURT_c3_train\nASL_2008_08_13_scene32-camera1_COURT_v0_c4_train.mov\nFound the json files\nSave as mask_COURT_c4_train\nASL_2010_08_10_Liz_additional_lexicon_signs_scene15-camera1_DEPOSIT_v0_c1_test.mov\nFound the json files\nSave as mask_DEPOSIT_c1_test\nASL_2010_08_10_Liz_additional_lexicon_signs_scene18-camera1_CONFLICT_v0_c1_test.mov\nFound the json files\nSave as mask_CONFLICT_c1_test\n"
     ],
     "output_type": "stream"
    }
   ],
   "source": [
    "mov_file_lst = [f for f in os.listdir((os.path.join(project_path, dir_video)))]\n",
    "for mov_file in mov_file_lst:\n",
    "    print(mov_file)\n",
    "    json_files_lst = [f for f in os.listdir(os.path.join(project_path, dir_json)) if os.path.splitext(mov_file)[0] in f]\n",
    "    if len(json_files_lst) > 0:\n",
    "        print('Found the json files')\n",
    "    feature_body_dict = dict()\n",
    "    feature_hand_left_dict = dict()\n",
    "    feature_hand_right_dict = dict()\n",
    "    \n",
    "    for json_f in json_files_lst:\n",
    "        with open(os.path.join(project_path, dir_json, json_f)) as ff:\n",
    "            json_code = json.load(ff)\n",
    "        \n",
    "        # This assume there is only one person\n",
    "        body_raw_lst = json_code['people'][0]['pose_keypoints_2d']\n",
    "        left_hand_raw_lst = json_code['people'][0]['hand_left_keypoints_2d']\n",
    "        right_hand_raw_lst = json_code['people'][0]['hand_right_keypoints_2d']\n",
    "        \n",
    "        for i in body_feature_set:\n",
    "            temp = feature_body_dict.get(i, [])\n",
    "            temp.append(body_raw_lst[3*i:3*(i+1)])\n",
    "            feature_body_dict[i] = temp\n",
    "            \n",
    "        for i in hand_feature_set4:\n",
    "            temp = feature_hand_left_dict.get(i, [])\n",
    "            temp.append(left_hand_raw_lst[3*i:3*(i+1)])\n",
    "            feature_hand_left_dict[i] = temp\n",
    "            \n",
    "        for i in hand_feature_set4:\n",
    "            temp = feature_hand_right_dict.get(i, [])\n",
    "            temp.append(right_hand_raw_lst[3*i:3*(i+1)])\n",
    "            feature_hand_right_dict[i] = temp\n",
    "    \n",
    "    cap = cv2.VideoCapture(os.path.join(project_path, dir_video, mov_file))\n",
    "    ret, first_frame = cap.read()\n",
    "    mask = np.zeros_like(first_frame)\n",
    "    for (k, v) in feature_body_dict.items():\n",
    "        x_0 = int(v[0][0])\n",
    "        y_0 = int(v[0][1])\n",
    "        for points in v[1:]:\n",
    "            x_1 = int(points[0])\n",
    "            y_1 = int(points[1])\n",
    "            if x_0 == 0 and y_0 == 0:\n",
    "                x_0 = x_1\n",
    "                y_0 = y_1\n",
    "            if x_1 != 0 and y_1 != 0:\n",
    "                mask = cv2.line(mask, (x_0, y_0), (x_1, y_1), color[k].tolist(), 5)\n",
    "                x_0 = x_1\n",
    "                y_0 = y_1\n",
    "                \n",
    "    for (k, v) in feature_hand_left_dict.items():\n",
    "        x_0 = int(v[0][0])\n",
    "        y_0 = int(v[0][1])\n",
    "        for points in v[1:]:\n",
    "            x_1 = int(points[0])\n",
    "            y_1 = int(points[1])\n",
    "            if x_0 == 0 and y_0 == 0:\n",
    "                x_0 = x_1\n",
    "                y_0 = y_1\n",
    "            if x_1 != 0 and y_1 != 0:\n",
    "                mask = cv2.line(mask, (x_0, y_0), (x_1, y_1), color[k+50].tolist(), 1)\n",
    "                x_0 = x_1\n",
    "                y_0 = y_1\n",
    "                \n",
    "    for (k, v) in feature_hand_right_dict.items():\n",
    "        x_0 = int(v[0][0])\n",
    "        y_0 = int(v[0][1])\n",
    "        for points in v[1:]:\n",
    "            x_1 = int(points[0])\n",
    "            y_1 = int(points[1])\n",
    "            if x_0 == 0 and y_0 == 0:\n",
    "                x_0 = x_1\n",
    "                y_0 = y_1\n",
    "            if x_1 != 0 and y_1 != 0:\n",
    "                mask = cv2.line(mask, (x_0, y_0), (x_1, y_1), color[k+100].tolist(), 1)\n",
    "                x_0 = x_1\n",
    "                y_0 = y_1\n",
    "    \n",
    "    temp_segments = len(mov_file.split('_'))\n",
    "    word = mov_file.split('_')[temp_segments-4]\n",
    "    counter = mov_file.split('_')[temp_segments-2]\n",
    "    train_test = mov_file.split('_')[temp_segments-1].split('.')[0]\n",
    "    save_file = 'mask_' + word + '_' + counter + '_' + train_test\n",
    "    print('Save as', save_file)\n",
    "    plt.imsave(os.path.join(project_path, dir_optical_flow, save_file + '.png'), mask)\n",
    "    if 'train' in save_file:\n",
    "        plt.imsave(os.path.join(project_path, dir_transfer, word, save_file + '.png'), mask)\n",
    "    cap.release()\n",
    "    cv2.destroyAllWindows()\n"
   ],
   "metadata": {
    "collapsed": false,
    "pycharm": {
     "name": "#%%\n",
     "is_executing": false
    }
   }
  },
  {
   "cell_type": "code",
   "execution_count": 4,
   "outputs": [],
   "source": [
    "\n"
   ],
   "metadata": {
    "collapsed": false,
    "pycharm": {
     "name": "#%%\n",
     "is_executing": false
    }
   }
  }
 ],
 "metadata": {
  "kernelspec": {
   "display_name": "Python 3",
   "language": "python",
   "name": "python3"
  },
  "language_info": {
   "codemirror_mode": {
    "name": "ipython",
    "version": 2
   },
   "file_extension": ".py",
   "mimetype": "text/x-python",
   "name": "python",
   "nbconvert_exporter": "python",
   "pygments_lexer": "ipython2",
   "version": "2.7.6"
  },
  "pycharm": {
   "stem_cell": {
    "cell_type": "raw",
    "source": [],
    "metadata": {
     "collapsed": false
    }
   }
  }
 },
 "nbformat": 4,
 "nbformat_minor": 0
}